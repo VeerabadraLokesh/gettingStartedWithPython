{
 "cells": [
  {
   "cell_type": "code",
   "execution_count": 1,
   "metadata": {},
   "outputs": [
    {
     "name": "stdout",
     "output_type": "stream",
     "text": [
      "done\n"
     ]
    }
   ],
   "source": [
    "import cv2\n",
    "import matplotlib\n",
    "import numpy as np\n",
    "import urllib.request\n",
    "\n",
    "\n",
    "req = urllib.request.urlopen('http://answers.opencv.org/upfiles/logo_2.png')\n",
    "arr = np.asarray(bytearray(req.read()), dtype=np.uint8)\n",
    "img = cv2.imdecode(arr, -1)\n",
    "\n",
    "# cv2.imshow('lalala', img)\n",
    "# if cv2.waitKey() & 0xff == 27:\n",
    "#     print('done')"
   ]
  }
 ],
 "metadata": {
  "kernelspec": {
   "display_name": "Python 3",
   "language": "python",
   "name": "python3"
  },
  "language_info": {
   "codemirror_mode": {
    "name": "ipython",
    "version": 3
   },
   "file_extension": ".py",
   "mimetype": "text/x-python",
   "name": "python",
   "nbconvert_exporter": "python",
   "pygments_lexer": "ipython3",
   "version": "3.7.3"
  }
 },
 "nbformat": 4,
 "nbformat_minor": 2
}
