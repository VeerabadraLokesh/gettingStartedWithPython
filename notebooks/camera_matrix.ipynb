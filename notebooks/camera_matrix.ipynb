{
 "cells": [
  {
   "cell_type": "code",
   "execution_count": 1,
   "metadata": {},
   "outputs": [
    {
     "name": "stdout",
     "output_type": "stream",
     "text": [
      "[[8.56909731e+05 1.13924855e+05 6.10070602e+02]\n",
      " [1.13924855e+05 5.22079978e+05 1.86585048e+02]\n",
      " [6.10070602e+02 1.86585048e+02 1.00000000e+00]]\n",
      "610.0706015452691 186.5850479572041\n",
      "696.2209363740762 698.0444095616135\n"
     ]
    }
   ],
   "source": [
    "import numpy as np\n",
    "from math import sqrt\n",
    "from numpy.linalg import inv as inv\n",
    "\n",
    "view_matrix = [\n",
    "    [\n",
    "        -911.1166503675031,\n",
    "        248.36954810208073,\n",
    "        -18.926058477425673,\n",
    "        -167.8990857473499\n",
    "    ],\n",
    "    [\n",
    "        -143.3053098339586,\n",
    "        -155.6642549692365,\n",
    "        -711.1451153584082,\n",
    "        -101.23306697418491\n",
    "    ],\n",
    "    [\n",
    "        0.0,\n",
    "        0.0,\n",
    "        0.0,\n",
    "        1.0\n",
    "    ],\n",
    "    [\n",
    "        -0.8239435046107771,\n",
    "        -0.5647533532572663,\n",
    "        0.0465915926090965,\n",
    "        -0.2721327964058732\n",
    "    ]\n",
    "]\n",
    "\n",
    "view_matrix = np.array([view_matrix[0], view_matrix[1], view_matrix[3]])\n",
    "\n",
    "\n",
    "aat = np.matmul(view_matrix, np.transpose(view_matrix))\n",
    "\n",
    "aat = aat/(aat[2, 2])\n",
    "print(aat)\n",
    "\n",
    "cx = aat[0, 2]\n",
    "cy = aat[1, 2]\n",
    "\n",
    "print(cx, cy)\n",
    "# print(aat[0, 1])\n",
    "\n",
    "fx = sqrt(aat[0, 0] - cx * cx)\n",
    "fy = sqrt(aat[1, 1] - cy * cy)\n",
    "print(fx, fy)"
   ]
  },
  {
   "cell_type": "code",
   "execution_count": 4,
   "metadata": {},
   "outputs": [
    {
     "name": "stdout",
     "output_type": "stream",
     "text": [
      "[28.488, 56.976, 113.952]\n",
      "[28.488, 56.976, 113.952]\n",
      "[28.488, 56.976, 113.952]\n",
      "[28.488, 56.976, 113.952]\n",
      "[28.488, 56.976, 113.952]\n",
      "[28.488, 56.976, 113.952]\n",
      "[28.488, 56.976, 113.952]\n",
      "[28.488, 56.976, 113.952]\n",
      "[28.488, 56.976, 113.952]\n",
      "[28.488, 56.976, 113.952]\n",
      "[28.488, 56.976, 113.952]\n",
      "[28.488, 56.976, 113.952]\n",
      "[28.488, 56.976, 113.952]\n",
      "[28.488, 56.976, 113.952]\n",
      "[28.488, 56.976, 113.952]\n",
      "[28.488, 56.976, 113.952]\n",
      "[28.488, 56.976, 113.952]\n",
      "[28.488, 56.976, 113.952]\n",
      "[28.488, 56.976, 113.952]\n",
      "[37.00699755451664, 74.01399510903327, 148.02799021806655]\n",
      "[42.732, 85.464, 170.928]\n",
      "[37.00699755451664, 74.01399510903327, 148.02799021806655]\n",
      "[28.488, 56.976, 113.952]\n",
      "[28.488, 56.976, 113.952]\n",
      "[28.488, 56.976, 113.952]\n",
      "[28.488, 56.976, 113.952]\n",
      "[28.488, 56.976, 113.952]\n"
     ]
    }
   ],
   "source": [
    "import math\n",
    "\n",
    "fys = [237.4, 474.8, 949.6]\n",
    "\n",
    "TRIANGLE_SIGN_HEIGHT = 0.9 * math.cos(math.pi / 6)\n",
    "\n",
    "TRAFFIC_SIGN_HEIGHTS = [0.6,0.6,0.6,0.6,0.6,0.6,0.6,0.6,0.6,\n",
    "                        0.6,0.6,0.6,0.6,0.6,0.6,0.6,0.6,0.6,0.6,\n",
    "                        TRIANGLE_SIGN_HEIGHT, # construction site\n",
    "                        0.9, # stop\n",
    "                        TRIANGLE_SIGN_HEIGHT, # yield\n",
    "                        0.6,0.6,0.6,0.6,0.6]\n",
    "\n",
    "for tfh in TRAFFIC_SIGN_HEIGHTS:\n",
    "    print([tfh*fy/5 for fy in fys])\n"
   ]
  }
 ],
 "metadata": {
  "kernelspec": {
   "display_name": "Python 3",
   "language": "python",
   "name": "python3"
  },
  "language_info": {
   "codemirror_mode": {
    "name": "ipython",
    "version": 3
   },
   "file_extension": ".py",
   "mimetype": "text/x-python",
   "name": "python",
   "nbconvert_exporter": "python",
   "pygments_lexer": "ipython3",
   "version": "3.7.3"
  }
 },
 "nbformat": 4,
 "nbformat_minor": 2
}
