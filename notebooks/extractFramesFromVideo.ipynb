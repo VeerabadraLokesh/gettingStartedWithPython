{
 "cells": [
  {
   "cell_type": "code",
   "execution_count": 1,
   "metadata": {},
   "outputs": [
    {
     "name": "stdout",
     "output_type": "stream",
     "text": [
      "Frames per second using video.get(cv2.CAP_PROP_FPS) : 30\n",
      "sampling_ratio: 3\n",
      "1000\n",
      "2000\n",
      "3000\n",
      "4000\n",
      "5000\n",
      "6000\n",
      "7000\n",
      "8000\n",
      "9000\n",
      "10000\n",
      "11000\n"
     ]
    }
   ],
   "source": [
    "import cv2\n",
    "import os\n",
    "\n",
    "\n",
    "def extractFrames(video_path, output_path, frame_rate=10, debug=True):\n",
    "    \n",
    "    video_object = cv2.VideoCapture(video_path)\n",
    "    \n",
    "    (major_ver, minor_ver, subminor_ver) = (cv2.__version__).split('.')\n",
    "\n",
    "    if int(major_ver)  < 3 :\n",
    "        fps = round(video_object.get(cv2.cv.CV_CAP_PROP_FPS))\n",
    "        print(\"Frames per second using video.get(cv2.cv.CV_CAP_PROP_FPS): {}\".format(fps))\n",
    "    else :\n",
    "        fps = round(video_object.get(cv2.CAP_PROP_FPS))\n",
    "        print(\"Frames per second using video.get(cv2.CAP_PROP_FPS) : {}\".format(fps))\n",
    "    \n",
    "    count = 0\n",
    "    \n",
    "    success = True\n",
    "    \n",
    "    sampling_ratio = int(fps/frame_rate)\n",
    "    \n",
    "    print('sampling_ratio: {}'.format(sampling_ratio))\n",
    "    \n",
    "    while success:\n",
    "        \n",
    "        success, image = video_object.read()\n",
    "        \n",
    "        if success and count % sampling_ratio == 0:\n",
    "            output_image_path = os.path.join(output_path, ('%07d.jpg' % count))\n",
    "\n",
    "            cv2.imwrite(output_image_path, image)\n",
    "\n",
    "        count += 1\n",
    "\n",
    "        if debug and count % 1000 == 0:\n",
    "            print(count)\n",
    "    video_object.release()\n",
    "\n",
    "video_file_path = \"video_path\"\n",
    "output_path = \"output_path\"\n",
    "\n",
    "if os.path.isfile(video_file_path):\n",
    "    if os.path.isdir(output_path) and len(os.listdir(output_path)) > 0:\n",
    "        l = len(os.listdir(output_path))\n",
    "        print('{} files already present in the output directory'.format(l))\n",
    "    else:\n",
    "        os.makedirs(output_path, exist_ok=True)\n",
    "        extractFrames(video_file_path, output_path)\n",
    "else:\n",
    "    print(\"please provide valid video file\")"
   ]
  },
  {
   "cell_type": "code",
   "execution_count": 11,
   "metadata": {},
   "outputs": [],
   "source": [
    "\n",
    "\n",
    "# import cv2\n",
    "\n",
    "\n",
    "# video = cv2.VideoCapture(\"video_path\");\n",
    "\n",
    "# # Find OpenCV version\n",
    "# (major_ver, minor_ver, subminor_ver) = (cv2.__version__).split('.')\n",
    "\n",
    "# if int(major_ver)  < 3 :\n",
    "#     fps = round(video.get(cv2.cv.CV_CAP_PROP_FPS))\n",
    "#     print(\"Frames per second using video.get(cv2.cv.CV_CAP_PROP_FPS): {}\".format(fps))\n",
    "# else :\n",
    "#     fps = round(video.get(cv2.CAP_PROP_FPS))\n",
    "#     print(\"Frames per second using video.get(cv2.CAP_PROP_FPS) : {}\".format(fps))\n",
    "\n",
    "# video.release(); \n"
   ]
  }
 ],
 "metadata": {
  "kernelspec": {
   "display_name": "Python 3",
   "language": "python",
   "name": "python3"
  },
  "language_info": {
   "codemirror_mode": {
    "name": "ipython",
    "version": 3
   },
   "file_extension": ".py",
   "mimetype": "text/x-python",
   "name": "python",
   "nbconvert_exporter": "python",
   "pygments_lexer": "ipython3",
   "version": "3.7.3"
  }
 },
 "nbformat": 4,
 "nbformat_minor": 2
}
