{
 "cells": [
  {
   "cell_type": "code",
   "execution_count": 39,
   "metadata": {},
   "outputs": [],
   "source": [
    "import os\n",
    "import math\n",
    "\n",
    "def getStats(inputFilePath):\n",
    "    statmap = {}\n",
    "    lineCounter = -1\n",
    "    if os.path.exists(inputFilePath) and os.path.isfile(inputFilePath): \n",
    "        with open(inputFilePath) as infile:\n",
    "            for line in infile:\n",
    "                lineCounter += 1\n",
    "                if lineCounter == 0:\n",
    "                    continue\n",
    "                iou, anglediff = [float(x) for x in (line[:-1].split(\",\"))[4:6]]\n",
    "                iou_floor = int((iou//10) * 10)\n",
    "                if not iou_floor in statmap:\n",
    "                    statmap[iou_floor] = 0\n",
    "                statmap[iou_floor] += 1\n",
    "    return statmap, lineCounter"
   ]
  },
  {
   "cell_type": "code",
   "execution_count": 40,
   "metadata": {},
   "outputs": [
    {
     "name": "stdout",
     "output_type": "stream",
     "text": [
      "{}\n",
      "-1\n"
     ]
    }
   ],
   "source": [
    "dir_path = ''\n",
    "file_name = ''\n",
    "input_file_path = os.path.join(dir_path, file_name)\n",
    "\n",
    "stmap, total = getStats(input_file_path)\n",
    "\n",
    "print(stmap)\n",
    "print(total)\n",
    "\n",
    "for iou_range in sorted(stmap.keys())[::-1]:\n",
    "    print('{}-{} %\\t{}\\t{}'.format(iou_range, iou_range + 10, stmap[iou_range], (stmap[iou_range]*100/total)))\n"
   ]
  }
 ],
 "metadata": {
  "kernelspec": {
   "display_name": "Python 3",
   "language": "python",
   "name": "python3"
  },
  "language_info": {
   "codemirror_mode": {
    "name": "ipython",
    "version": 3
   },
   "file_extension": ".py",
   "mimetype": "text/x-python",
   "name": "python",
   "nbconvert_exporter": "python",
   "pygments_lexer": "ipython3",
   "version": "3.7.3"
  }
 },
 "nbformat": 4,
 "nbformat_minor": 2
}
