{
 "cells": [
  {
   "cell_type": "code",
   "execution_count": 1,
   "metadata": {},
   "outputs": [
    {
     "name": "stdout",
     "output_type": "stream",
     "text": [
      "2.9716666666666733\n",
      "6582.633926666682\n"
     ]
    }
   ],
   "source": [
    "\n",
    "\n",
    "feb11 = 388.71\n",
    "aug11 = 406.54\n",
    "\n",
    "diff6months = aug11 - feb11\n",
    "\n",
    "diffpermonth = diff6months/6\n",
    "\n",
    "print(diffpermonth)\n",
    "\n",
    "tokens = 2215.132\n",
    "\n",
    "changepermonth = tokens * diffpermonth\n",
    "\n",
    "print(changepermonth)"
   ]
  },
  {
   "cell_type": "code",
   "execution_count": 2,
   "metadata": {},
   "outputs": [
    {
     "data": {
      "text/plain": [
       "125797.15"
      ]
     },
     "execution_count": 2,
     "metadata": {},
     "output_type": "execute_result"
    }
   ],
   "source": [
    "pl = [\n",
    "    48752.04,\n",
    "    19684.27,\n",
    "    23324.66,\n",
    "    25511.21,\n",
    "    8524.97\n",
    "]\n",
    "sum(pl)"
   ]
  }
 ],
 "metadata": {
  "kernelspec": {
   "display_name": "Python 3",
   "language": "python",
   "name": "python3"
  },
  "language_info": {
   "codemirror_mode": {
    "name": "ipython",
    "version": 3
   },
   "file_extension": ".py",
   "mimetype": "text/x-python",
   "name": "python",
   "nbconvert_exporter": "python",
   "pygments_lexer": "ipython3",
   "version": "3.7.3"
  }
 },
 "nbformat": 4,
 "nbformat_minor": 2
}
