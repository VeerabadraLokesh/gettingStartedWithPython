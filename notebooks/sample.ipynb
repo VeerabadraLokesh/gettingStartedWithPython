{
 "cells": [
  {
   "cell_type": "code",
   "execution_count": 11,
   "metadata": {
    "scrolled": true
   },
   "outputs": [
    {
     "name": "stdout",
     "output_type": "stream",
     "text": [
      "jupyter\n"
     ]
    }
   ],
   "source": [
    "print('jupyter')"
   ]
  },
  {
   "cell_type": "code",
   "execution_count": 10,
   "metadata": {},
   "outputs": [
    {
     "name": "stdout",
     "output_type": "stream",
     "text": [
      "2.1403630471302066\n",
      "3.745159728729437\n"
     ]
    }
   ],
   "source": [
    "# import datetime\n",
    "# print(datetime.datetime.now())\n",
    "import random\n",
    "k = 0\n",
    "for i in range(10):\n",
    "    k += random.random()\n",
    "    if i == 5:\n",
    "        print(k)\n",
    "print(k)"
   ]
  },
  {
   "cell_type": "code",
   "execution_count": 12,
   "metadata": {},
   "outputs": [
    {
     "name": "stdout",
     "output_type": "stream",
     "text": [
      "100\n"
     ]
    }
   ],
   "source": [
    "def square(x):\n",
    "    return x * x\n",
    "print(square(10))"
   ]
  },
  {
   "cell_type": "code",
   "execution_count": 13,
   "metadata": {},
   "outputs": [
    {
     "name": "stdout",
     "output_type": "stream",
     "text": [
      "10\n"
     ]
    }
   ],
   "source": [
    "# try:\n",
    "#     from .DCNv2.dcn_v2 import DCN\n",
    "# except:\n",
    "#     DCN = None\n",
    "# try:\n",
    "#     if DCN is None:\n",
    "#         from dcn_v2 import DCN\n",
    "# except:\n",
    "#     DCN = None\n",
    "\n",
    "# if DCN is None:\n",
    "#     print('import DCN failed')\n",
    "\n",
    "import sys;\n",
    "#print(sys.executable)\n",
    "print(len(sys.path))"
   ]
  }
 ],
 "metadata": {
  "kernelspec": {
   "display_name": "Python 3",
   "language": "python",
   "name": "python3"
  },
  "language_info": {
   "codemirror_mode": {
    "name": "ipython",
    "version": 3
   },
   "file_extension": ".py",
   "mimetype": "text/x-python",
   "name": "python",
   "nbconvert_exporter": "python",
   "pygments_lexer": "ipython3",
   "version": "3.7.3"
  }
 },
 "nbformat": 4,
 "nbformat_minor": 2
}
