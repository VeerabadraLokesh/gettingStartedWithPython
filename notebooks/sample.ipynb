{
 "cells": [
  {
   "cell_type": "code",
   "execution_count": 47,
   "metadata": {
    "scrolled": true
   },
   "outputs": [
    {
     "name": "stdout",
     "output_type": "stream",
     "text": [
      "jupyter\n"
     ]
    }
   ],
   "source": [
    "print('jupyter')"
   ]
  },
  {
   "cell_type": "code",
   "execution_count": 15,
   "metadata": {},
   "outputs": [
    {
     "name": "stdout",
     "output_type": "stream",
     "text": [
      "3.560755045843764\n",
      "5.559484797245526\n"
     ]
    }
   ],
   "source": [
    "# import datetime\n",
    "# print(datetime.datetime.now())\n",
    "from time import sleep\n",
    "\n",
    "import random\n",
    "k = 0\n",
    "for i in range(10):\n",
    "    k += random.random()\n",
    "    if i == 5:\n",
    "        print(k)\n",
    "print(k)"
   ]
  },
  {
   "cell_type": "code",
   "execution_count": 12,
   "metadata": {},
   "outputs": [
    {
     "name": "stdout",
     "output_type": "stream",
     "text": [
      "100\n"
     ]
    }
   ],
   "source": [
    "def square(x):\n",
    "    return x * x\n",
    "print(square(10))"
   ]
  },
  {
   "cell_type": "code",
   "execution_count": 1,
   "metadata": {},
   "outputs": [
    {
     "name": "stdout",
     "output_type": "stream",
     "text": [
      "11\n"
     ]
    }
   ],
   "source": [
    "# try:\n",
    "#     from .DCNv2.dcn_v2 import DCN\n",
    "# except:\n",
    "#     DCN = None\n",
    "# try:\n",
    "#     if DCN is None:\n",
    "#         from dcn_v2 import DCN\n",
    "# except:\n",
    "#     DCN = None\n",
    "\n",
    "# if DCN is None:\n",
    "#     print('import DCN failed')\n",
    "\n",
    "import sys;\n",
    "#print(sys.executable)\n",
    "print(len(sys.path))"
   ]
  },
  {
   "cell_type": "code",
   "execution_count": 56,
   "metadata": {},
   "outputs": [],
   "source": [
    "# browser.close()\n",
    "\n",
    "from selenium import webdriver\n",
    "from selenium.webdriver.support.ui import WebDriverWait\n",
    "\n",
    "browser = webdriver.Firefox()\n",
    "\n",
    "# browser.get('https://www.google.co.in')\n",
    "\n",
    "# wait = WebDriverWait(browser, 5)\n",
    "# page_title = browser.title\n",
    "\n",
    "# assert page_title == \"Google\"\n",
    "\n"
   ]
  },
  {
   "cell_type": "code",
   "execution_count": 58,
   "metadata": {},
   "outputs": [],
   "source": [
    "# browser.get('https://www.w3schools.com')\n",
    "\n",
    "# sleep(5)\n",
    "# wait = WebDriverWait(browser, 50)\n",
    "\n",
    "def get_urls_on_current_page(urls_on_page = {}):\n",
    "    for a in browser.find_elements_by_xpath('.//a'):\n",
    "        url = a.get_attribute('href')\n",
    "        if url is not None and url.startswith('http'):\n",
    "            urls_on_page[url] = 1\n",
    "        else:\n",
    "#             print(url)\n",
    "            pass\n",
    "    return urls_on_page\n",
    "\n",
    "browser.get('https://www.w3schools.com')\n",
    "urls_map = get_urls_on_current_page()"
   ]
  },
  {
   "cell_type": "code",
   "execution_count": null,
   "metadata": {},
   "outputs": [
    {
     "name": "stdout",
     "output_type": "stream",
     "text": [
      "185\n"
     ]
    }
   ],
   "source": [
    "visited_urls = {'https://www.w3schools.com': 1}\n",
    "\n",
    "\n",
    "def get_urls_to_visit():\n",
    "    urls_to_visit = []\n",
    "\n",
    "    for url in urls_map.keys():\n",
    "        if url not in visited_urls:\n",
    "            visited_urls[url] = 1\n",
    "            urls_to_visit.append(url)\n",
    "    return urls_to_visit\n",
    "\n",
    "\n",
    "print(len(urls_to_visit))\n",
    "\n",
    "iteration = 0\n",
    "total_visited_urls = 1\n",
    "\n",
    "while iteration < 2 and total_visited_urls < 10:\n",
    "    iteration += 1\n",
    "    total_visited_urls += 1\n",
    "    urls_to_visit = get_urls_to_visit()\n",
    "    urls_map = {}\n",
    "    for url_ in urls_to_visit:\n",
    "        try:\n",
    "            browser.get(url_)\n",
    "        except:\n",
    "            print('failed to get {}'.format(url_))\n",
    "        total_visited_urls += 1\n",
    "        urls_map = get_urls_on_current_page(urls_map)\n",
    "#         print(len(urls_map.keys()))\n",
    "        sleep(5)\n"
   ]
  },
  {
   "cell_type": "code",
   "execution_count": null,
   "metadata": {},
   "outputs": [],
   "source": [
    "print(len(urls_map.keys()))"
   ]
  }
 ],
 "metadata": {
  "kernelspec": {
   "display_name": "Python 3",
   "language": "python",
   "name": "python3"
  },
  "language_info": {
   "codemirror_mode": {
    "name": "ipython",
    "version": 3
   },
   "file_extension": ".py",
   "mimetype": "text/x-python",
   "name": "python",
   "nbconvert_exporter": "python",
   "pygments_lexer": "ipython3",
   "version": "3.7.3"
  }
 },
 "nbformat": 4,
 "nbformat_minor": 2
}
