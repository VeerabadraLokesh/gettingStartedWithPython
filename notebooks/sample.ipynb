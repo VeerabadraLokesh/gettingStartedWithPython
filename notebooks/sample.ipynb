{
 "cells": [
  {
   "cell_type": "code",
   "execution_count": 11,
   "metadata": {
    "scrolled": true
   },
   "outputs": [
    {
     "name": "stdout",
     "output_type": "stream",
     "text": [
      "jupyter\n"
     ]
    }
   ],
   "source": [
    "print('jupyter')"
   ]
  },
  {
   "cell_type": "code",
   "execution_count": 15,
   "metadata": {},
   "outputs": [
    {
     "name": "stdout",
     "output_type": "stream",
     "text": [
      "3.560755045843764\n",
      "5.559484797245526\n"
     ]
    }
   ],
   "source": [
    "# import datetime\n",
    "# print(datetime.datetime.now())\n",
    "from time import sleep\n",
    "\n",
    "import random\n",
    "k = 0\n",
    "for i in range(10):\n",
    "    k += random.random()\n",
    "    if i == 5:\n",
    "        print(k)\n",
    "print(k)"
   ]
  },
  {
   "cell_type": "code",
   "execution_count": 12,
   "metadata": {},
   "outputs": [
    {
     "name": "stdout",
     "output_type": "stream",
     "text": [
      "100\n"
     ]
    }
   ],
   "source": [
    "def square(x):\n",
    "    return x * x\n",
    "print(square(10))"
   ]
  },
  {
   "cell_type": "code",
   "execution_count": 1,
   "metadata": {},
   "outputs": [
    {
     "name": "stdout",
     "output_type": "stream",
     "text": [
      "11\n"
     ]
    }
   ],
   "source": [
    "# try:\n",
    "#     from .DCNv2.dcn_v2 import DCN\n",
    "# except:\n",
    "#     DCN = None\n",
    "# try:\n",
    "#     if DCN is None:\n",
    "#         from dcn_v2 import DCN\n",
    "# except:\n",
    "#     DCN = None\n",
    "\n",
    "# if DCN is None:\n",
    "#     print('import DCN failed')\n",
    "\n",
    "import sys;\n",
    "#print(sys.executable)\n",
    "print(len(sys.path))"
   ]
  },
  {
   "cell_type": "code",
   "execution_count": 19,
   "metadata": {},
   "outputs": [],
   "source": [
    "# browser.close()\n",
    "\n",
    "from selenium import webdriver\n",
    "from selenium.webdriver.support.ui import WebDriverWait\n",
    "\n",
    "browser = webdriver.Firefox()\n",
    "\n",
    "# browser.get('https://www.google.co.in')\n",
    "\n",
    "# wait = WebDriverWait(browser, 5)\n",
    "# page_title = browser.title\n",
    "\n",
    "# assert page_title == \"Google\"\n",
    "\n"
   ]
  },
  {
   "cell_type": "code",
   "execution_count": 30,
   "metadata": {},
   "outputs": [],
   "source": [
    "def get_urls_on_current_page():\n",
    "    urls_on_page = []\n",
    "    for a in browser.find_elements_by_xpath('.//a'):\n",
    "        url = a.get_attribute('href')\n",
    "        if url.startswith('http'):\n",
    "#             print(url)\n",
    "            urls_on_page.append(url)\n",
    "    return urls_on_page"
   ]
  },
  {
   "cell_type": "code",
   "execution_count": 35,
   "metadata": {},
   "outputs": [],
   "source": [
    "# browser.get('https://www.w3schools.com')\n",
    "\n",
    "# sleep(5)\n",
    "# wait = WebDriverWait(browser, 50)\n",
    "\n",
    "browser.get('https://www.w3schools.com')\n",
    "urls_list = get_urls_on_current_page()"
   ]
  },
  {
   "cell_type": "code",
   "execution_count": 36,
   "metadata": {},
   "outputs": [
    {
     "name": "stdout",
     "output_type": "stream",
     "text": [
      "144\n"
     ]
    }
   ],
   "source": [
    "visited_urls = {'https://www.w3schools.com': 1}\n",
    "\n",
    "def get_urls_to_visit():\n",
    "    urls_to_visit = []\n",
    "\n",
    "    for url in urls_list:\n",
    "        if url not in visited_urls:\n",
    "            visited_urls[url] = 1\n",
    "            urls_to_visit.append(url)\n",
    "    return urls_to_visit\n",
    "\n",
    "urls_to_visit = get_urls_to_visit()\n",
    "print(len(urls_to_visit))"
   ]
  },
  {
   "cell_type": "code",
   "execution_count": 29,
   "metadata": {},
   "outputs": [
    {
     "name": "stdout",
     "output_type": "stream",
     "text": [
      "297\n"
     ]
    }
   ],
   "source": [
    "\n",
    "\n"
   ]
  }
 ],
 "metadata": {
  "kernelspec": {
   "display_name": "Python 3",
   "language": "python",
   "name": "python3"
  },
  "language_info": {
   "codemirror_mode": {
    "name": "ipython",
    "version": 3
   },
   "file_extension": ".py",
   "mimetype": "text/x-python",
   "name": "python",
   "nbconvert_exporter": "python",
   "pygments_lexer": "ipython3",
   "version": "3.7.3"
  }
 },
 "nbformat": 4,
 "nbformat_minor": 2
}
